{
 "nbformat": 4,
 "nbformat_minor": 2,
 "metadata": {
  "language_info": {
   "name": "python",
   "codemirror_mode": {
    "name": "ipython",
    "version": 3
   },
   "version": "3.6.7-final"
  },
  "orig_nbformat": 2,
  "file_extension": ".py",
  "mimetype": "text/x-python",
  "name": "python",
  "npconvert_exporter": "python",
  "pygments_lexer": "ipython3",
  "version": 3,
  "kernelspec": {
   "name": "python36764bitttk4255conda7fddcb7c06c64f75be4ebda16af8eb63",
   "display_name": "Python 3.6.7 64-bit ('ttk4255': conda)"
  }
 },
 "cells": [
  {
   "cell_type": "markdown",
   "execution_count": null,
   "metadata": {},
   "outputs": [],
   "source": [
    "\\begin{equation*}\n",
    "\\textbf{Using the definition of homogenous image coordinates and equations (4)-(5)} \\\\\n",
    "x = \\frac{\\tilde x}{\\tilde z} = \\frac{r_{11}X+r_{12}Y+t_x}{r_{31}X+r_{32}Y+t_z} \\\\\n",
    "y = \\frac{\\tilde y}{\\tilde z} = \\frac{r_{21}X+r_{22}Y+t_y}{r_{31}X+r_{32}Y+t_z} \\\\\n",
    "\\textbf{from this we get:} \\\\\n",
    "\\tilde x = r_{11}X+r_{12}Y+t_x \\\\\n",
    "\\tilde y = r_{21}X+r_{12}Y+t_y \\\\\n",
    "\\tilde z = r_{31}X+r_{12}Y+t_z \\\\\n",
    "\\textbf{which can be written in matrix form:} \\\\\n",
    "\\begin{bmatrix}\n",
    "\\tilde x \\\\\n",
    "\\tilde y \\\\\n",
    "\\tilde z \n",
    "\\end{bmatrix} = \n",
    "\\begin{bmatrix}\n",
    "r_{11} & r_{12} & t_x \\\\ \n",
    "r_{21} & r_{22} & t_y \\\\ \n",
    "r_{31} & r_{32} & t_z \\\\ \n",
    "\\end{bmatrix}\n",
    "\\begin{bmatrix}\n",
    "X \\\\\n",
    "Y \\\\\n",
    "1 \n",
    "\\end{bmatrix}\n",
    "= \\textbf{H}\n",
    "\\begin{bmatrix}\n",
    "X \\\\\n",
    "Y \\\\\n",
    "1 \n",
    "\\end{bmatrix}\n",
    "\\end{equation*}\n",
    "\n"
   ]
  },
  {
   "cell_type": "markdown",
   "execution_count": null,
   "metadata": {},
   "outputs": [],
   "source": [
    "Given  transformation of points in 3D from\n",
    "camera 1 to camera 2 as: \n",
    "\\begin{equation*}\n",
    "X_2 = HX_1 \n",
    "\\end{equation*}\n",
    "In the image planes, using homogenous coordinates, we have \n",
    "\\begin{equation*}\n",
    "\\lambda_1x_1 = X_1, \\lambda_2x_2 = X_2, \\text{therefore } \\lambda_2x_2=H\\lambda_1x_1\n",
    "\\end{equation*}\n",
    "This means that $x_2$ is equal to $Hx_1$ up to a scale (due to universal scale\n",
    "ambiguity) <br />\n",
    "ref: https://cseweb.ucsd.edu/classes/sp04/cse252b/notes/lec04/lec4.pdf\n"
   ]
  },
  {
   "cell_type": "code",
   "execution_count": null,
   "metadata": {},
   "outputs": [],
   "source": [
    "\\begin{equation*}\n",
    "\\textbf{Define} \\\\\n",
    "{X_2} = \n",
    "\\begin{bmatrix}\n",
    "\\tilde x \\\\\n",
    "\\tilde y \\\\\n",
    "\\tilde z \n",
    "\\end{bmatrix},\n",
    "X_1 = \n",
    "\\begin{bmatrix}\n",
    "X \\\\\n",
    "Y \\\\\n",
    "1 \n",
    "\\end{bmatrix} \\\\\n",
    "\n",
    "\\end{equation*}\n",
    "\n"
   ]
  }
 ]
}